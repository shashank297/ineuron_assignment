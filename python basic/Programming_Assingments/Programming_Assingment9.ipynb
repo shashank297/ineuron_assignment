{
 "cells": [
  {
   "cell_type": "markdown",
   "metadata": {},
   "source": [
    "1.\tWrite a Python program to check if the given number is a Disarium Number?\n",
    "2.\tWrite a Python program to print all disarium numbers between 1 to 100?\n",
    "3.\tWrite a Python program to check if the given number is Happy Number?\n",
    "4.\tWrite a Python program to print all happy numbers between 1 and 100?\n",
    "5.\tWrite a Python program to determine whether the given number is a Harshad Number?\n",
    "6.\tWrite a Python program to print all pronic numbers between 1 and 100?\n"
   ]
  },
  {
   "cell_type": "code",
   "execution_count": 1,
   "metadata": {},
   "outputs": [
    {
     "name": "stdout",
     "output_type": "stream",
     "text": [
      "True\n"
     ]
    }
   ],
   "source": [
    "# 1\n",
    "\n",
    "def is_disarium(n):\n",
    "    temp = n\n",
    "    length = len(str(n))\n",
    "    sum = 0\n",
    "    while (temp != 0):\n",
    "        r = temp % 10\n",
    "        sum = sum + (r ** length)\n",
    "        length = length - 1\n",
    "        temp = temp // 10\n",
    "    return sum == n\n",
    "\n",
    "# Test the function\n",
    "print(is_disarium(135))\n"
   ]
  },
  {
   "cell_type": "code",
   "execution_count": 2,
   "metadata": {},
   "outputs": [
    {
     "name": "stdout",
     "output_type": "stream",
     "text": [
      "1\n",
      "2\n",
      "3\n",
      "4\n",
      "5\n",
      "6\n",
      "7\n",
      "8\n",
      "9\n",
      "89\n"
     ]
    }
   ],
   "source": [
    "# 2\n",
    "\n",
    "for i in range(1, 101):\n",
    "    if is_disarium(i):\n",
    "        print(i)\n"
   ]
  },
  {
   "cell_type": "code",
   "execution_count": 3,
   "metadata": {},
   "outputs": [
    {
     "name": "stdout",
     "output_type": "stream",
     "text": [
      "True\n"
     ]
    }
   ],
   "source": [
    "# 3\n",
    "\n",
    "def is_happy(n):\n",
    "    past = set()\n",
    "    while n != 1:\n",
    "        n = sum(int(i) ** 2 for i in str(n))\n",
    "        if n in past:\n",
    "            return False\n",
    "        past.add(n)\n",
    "    return True\n",
    "\n",
    "# Test the function\n",
    "print(is_happy(19))\n"
   ]
  },
  {
   "cell_type": "code",
   "execution_count": 4,
   "metadata": {},
   "outputs": [
    {
     "name": "stdout",
     "output_type": "stream",
     "text": [
      "1\n",
      "7\n",
      "10\n",
      "13\n",
      "19\n",
      "23\n",
      "28\n",
      "31\n",
      "32\n",
      "44\n",
      "49\n",
      "68\n",
      "70\n",
      "79\n",
      "82\n",
      "86\n",
      "91\n",
      "94\n",
      "97\n",
      "100\n"
     ]
    }
   ],
   "source": [
    "# 4\n",
    "for i in range(1, 101):\n",
    "    if is_happy(i):\n",
    "        print(i)\n"
   ]
  },
  {
   "cell_type": "code",
   "execution_count": 5,
   "metadata": {},
   "outputs": [
    {
     "name": "stdout",
     "output_type": "stream",
     "text": [
      "True\n"
     ]
    }
   ],
   "source": [
    "# 5\n",
    "def is_harshad(n):\n",
    "    return n % sum(int(digit) for digit in str(n)) == 0\n",
    "\n",
    "# Test the function\n",
    "print(is_harshad(18))\n"
   ]
  },
  {
   "cell_type": "code",
   "execution_count": 6,
   "metadata": {},
   "outputs": [
    {
     "name": "stdout",
     "output_type": "stream",
     "text": [
      "2\n",
      "6\n",
      "12\n",
      "20\n",
      "30\n",
      "42\n",
      "56\n",
      "72\n",
      "90\n"
     ]
    }
   ],
   "source": [
    "# 6\n",
    "def is_pronic(n):\n",
    "    for i in range(1, n+1):\n",
    "        if ((i*(i+1)) == n):\n",
    "            return True\n",
    "    return False\n",
    "\n",
    "# Test the function\n",
    "for i in range(1, 101):\n",
    "    if is_pronic(i):\n",
    "        print(i)\n"
   ]
  }
 ],
 "metadata": {
  "kernelspec": {
   "display_name": "Python 3",
   "language": "python",
   "name": "python3"
  },
  "language_info": {
   "codemirror_mode": {
    "name": "ipython",
    "version": 3
   },
   "file_extension": ".py",
   "mimetype": "text/x-python",
   "name": "python",
   "nbconvert_exporter": "python",
   "pygments_lexer": "ipython3",
   "version": "3.8.18"
  }
 },
 "nbformat": 4,
 "nbformat_minor": 2
}
