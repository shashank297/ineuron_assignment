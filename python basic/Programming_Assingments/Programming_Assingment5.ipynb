{
 "cells": [
  {
   "cell_type": "markdown",
   "metadata": {},
   "source": [
    "1.\tWrite a Python Program to Find LCM?\n",
    "2.\tWrite a Python Program to Find HCF?\n",
    "3.\tWrite a Python Program to Convert Decimal to Binary, Octal and Hexadecimal?\n",
    "4.\tWrite a Python Program To Find ASCII value of a character?\n",
    "5.\tWrite a Python Program to Make a Simple Calculator with 4 basic mathematical operations?\n"
   ]
  },
  {
   "cell_type": "code",
   "execution_count": 1,
   "metadata": {},
   "outputs": [
    {
     "name": "stdout",
     "output_type": "stream",
     "text": [
      "The LCM is 216\n"
     ]
    }
   ],
   "source": [
    "num1 = 54\n",
    "num2 = 24\n",
    "\n",
    "if num1 > num2:\n",
    "    greater = num1\n",
    "else:\n",
    "    greater = num2\n",
    "\n",
    "while(True):\n",
    "    if((greater % num1 == 0) and (greater % num2 == 0)):\n",
    "        lcm = greater\n",
    "        break\n",
    "    greater += 1\n",
    "\n",
    "print(\"The LCM is\", lcm)\n"
   ]
  },
  {
   "cell_type": "code",
   "execution_count": 2,
   "metadata": {},
   "outputs": [
    {
     "name": "stdout",
     "output_type": "stream",
     "text": [
      "The HCF is 6\n"
     ]
    }
   ],
   "source": [
    "num1 = 54\n",
    "num2 = 24\n",
    "\n",
    "def compute_hcf(x, y):\n",
    "    while(y):\n",
    "        x, y = y, x % y\n",
    "    return x\n",
    "\n",
    "hcf = compute_hcf(num1, num2)\n",
    "print(\"The HCF is\", hcf)\n"
   ]
  },
  {
   "cell_type": "code",
   "execution_count": 3,
   "metadata": {},
   "outputs": [
    {
     "name": "stdout",
     "output_type": "stream",
     "text": [
      "The decimal value of 344 is:\n",
      "0b101011000 in binary.\n",
      "0o530 in octal.\n",
      "0x158 in hexadecimal.\n"
     ]
    }
   ],
   "source": [
    "dec = 344\n",
    "\n",
    "print(\"The decimal value of\", dec, \"is:\")\n",
    "print(bin(dec), \"in binary.\")\n",
    "print(oct(dec), \"in octal.\")\n",
    "print(hex(dec), \"in hexadecimal.\")\n"
   ]
  },
  {
   "cell_type": "code",
   "execution_count": 4,
   "metadata": {},
   "outputs": [
    {
     "name": "stdout",
     "output_type": "stream",
     "text": [
      "The ASCII value of 'p' is 112\n"
     ]
    }
   ],
   "source": [
    "char = 'p'\n",
    "print(\"The ASCII value of '\" + char + \"' is\", ord(char))\n"
   ]
  },
  {
   "cell_type": "code",
   "execution_count": 5,
   "metadata": {},
   "outputs": [
    {
     "name": "stdout",
     "output_type": "stream",
     "text": [
      "Select operation -\n",
      "1. Add\n",
      "2. Subtract\n",
      "3. Multiply\n",
      "4. Divide\n",
      "\n",
      "55 + 99 = 154\n"
     ]
    }
   ],
   "source": [
    "print(\"Select operation -\\n\" \\\n",
    "        \"1. Add\\n\" \\\n",
    "        \"2. Subtract\\n\" \\\n",
    "        \"3. Multiply\\n\" \\\n",
    "        \"4. Divide\\n\")\n",
    "\n",
    "select = int(input(\"Select operations form 1, 2, 3, 4 :\"))\n",
    "\n",
    "number_1 = int(input(\"Enter first number: \"))\n",
    "number_2 = int(input(\"Enter second number: \"))\n",
    "\n",
    "if select == 1:\n",
    "    print(number_1, \"+\", number_2, \"=\",\n",
    "                    number_1 + number_2)\n",
    "\n",
    "elif select == 2:\n",
    "    print(number_1, \"-\", number_2, \"=\",\n",
    "                    number_1 - number_2)\n",
    "\n",
    "elif select == 3:\n",
    "    print(number_1, \"*\", number_2, \"=\",\n",
    "                    number_1 * number_2)\n",
    "\n",
    "elif select == 4:\n",
    "    print(number_1, \"/\", number_2, \"=\",\n",
    "                    number_1 / number_2)\n",
    "else:\n",
    "    print(\"Invalid input\")\n"
   ]
  }
 ],
 "metadata": {
  "kernelspec": {
   "display_name": "Python 3",
   "language": "python",
   "name": "python3"
  },
  "language_info": {
   "codemirror_mode": {
    "name": "ipython",
    "version": 3
   },
   "file_extension": ".py",
   "mimetype": "text/x-python",
   "name": "python",
   "nbconvert_exporter": "python",
   "pygments_lexer": "ipython3",
   "version": "3.8.18"
  }
 },
 "nbformat": 4,
 "nbformat_minor": 2
}
