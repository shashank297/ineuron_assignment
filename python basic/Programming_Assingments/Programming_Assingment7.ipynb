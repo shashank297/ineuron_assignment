{
 "cells": [
  {
   "cell_type": "markdown",
   "metadata": {},
   "source": [
    "1.\tWrite a Python Program to find sum of array?\n",
    "2.\tWrite a Python Program to find largest element in an array?\n",
    "3.\tWrite a Python Program for array rotation?\n",
    "4.\tWrite a Python Program to Split the array and add the first part to the end?\n",
    "5.\tWrite a Python Program to check if given array is Monotonic?\n"
   ]
  },
  {
   "cell_type": "code",
   "execution_count": 2,
   "metadata": {},
   "outputs": [
    {
     "data": {
      "text/plain": [
       "21"
      ]
     },
     "execution_count": 2,
     "metadata": {},
     "output_type": "execute_result"
    }
   ],
   "source": [
    "# 1\n",
    "def sum_array(arr):\n",
    "    a=0\n",
    "    for i in arr:\n",
    "        a+=i\n",
    "    return a\n",
    "\n",
    "sum_array([1,2,3,4,5,6])    \n"
   ]
  },
  {
   "cell_type": "code",
   "execution_count": 4,
   "metadata": {},
   "outputs": [
    {
     "data": {
      "text/plain": [
       "6"
      ]
     },
     "execution_count": 4,
     "metadata": {},
     "output_type": "execute_result"
    }
   ],
   "source": [
    "# 2\n",
    "\n",
    "def largest_element(arr):\n",
    "\n",
    "    return max(arr)\n",
    "\n",
    "largest_element([1,2,3,4,5,6])"
   ]
  },
  {
   "cell_type": "code",
   "execution_count": 5,
   "metadata": {},
   "outputs": [
    {
     "name": "stdout",
     "output_type": "stream",
     "text": [
      "[3, 4, 5, 1, 2]\n"
     ]
    }
   ],
   "source": [
    "# 3\n",
    "\n",
    "def rotate_array(arr, n):\n",
    "    return arr[n:] + arr[:n]\n",
    "\n",
    "# Test the function\n",
    "arr = [1, 2, 3, 4, 5]\n",
    "n = 2\n",
    "print(rotate_array(arr, n))\n"
   ]
  },
  {
   "cell_type": "code",
   "execution_count": 6,
   "metadata": {},
   "outputs": [
    {
     "name": "stdout",
     "output_type": "stream",
     "text": [
      "[3, 4, 5, 1, 2]\n"
     ]
    }
   ],
   "source": [
    "# 4\n",
    "def split_and_add(arr, n):\n",
    "    return arr[n:] + arr[:n]\n",
    "\n",
    "# Test the function\n",
    "arr = [1, 2, 3, 4, 5]\n",
    "n = 2\n",
    "print(split_and_add(arr, n))\n"
   ]
  },
  {
   "cell_type": "code",
   "execution_count": 10,
   "metadata": {},
   "outputs": [
    {
     "name": "stdout",
     "output_type": "stream",
     "text": [
      "True\n",
      "False\n"
     ]
    }
   ],
   "source": [
    "# 5\n",
    "\n",
    "def is_monotonic(arr):\n",
    "    return (all(arr[i] <= arr[i + 1] for i in range(len(arr) - 1)) or\n",
    "            all(arr[i] >= arr[i + 1] for i in range(len(arr) - 1)))\n",
    "\n",
    "# Test the function\n",
    "arr = [1, 2, 3, 4, 5]\n",
    "print(is_monotonic(arr))\n",
    "print(is_monotonic([1,9,3,4,5,6]))\n"
   ]
  }
 ],
 "metadata": {
  "kernelspec": {
   "display_name": "Python 3",
   "language": "python",
   "name": "python3"
  },
  "language_info": {
   "codemirror_mode": {
    "name": "ipython",
    "version": 3
   },
   "file_extension": ".py",
   "mimetype": "text/x-python",
   "name": "python",
   "nbconvert_exporter": "python",
   "pygments_lexer": "ipython3",
   "version": "3.8.18"
  }
 },
 "nbformat": 4,
 "nbformat_minor": 2
}
