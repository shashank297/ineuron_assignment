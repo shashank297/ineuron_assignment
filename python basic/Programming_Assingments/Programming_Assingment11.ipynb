{
 "cells": [
  {
   "cell_type": "markdown",
   "metadata": {},
   "source": [
    "1.\tWrite a Python program to find words which are greater than given length k?\n",
    "2.\tWrite a Python program for removing i-th character from a string?\n",
    "3.\tWrite a Python program to split and join a string?\n",
    "4.\tWrite a Python to check if a given string is binary string or not?\n",
    "5.\tWrite a Python program to find uncommon words from two Strings?\n",
    "6.\tWrite a Python to find all duplicate characters in string?\n",
    "7.\tWrite a Python Program to check if a string contains any special character?\n"
   ]
  },
  {
   "cell_type": "code",
   "execution_count": 1,
   "metadata": {},
   "outputs": [
    {
     "name": "stdout",
     "output_type": "stream",
     "text": [
      "['Write', 'Python', 'program', 'words', 'which', 'greater', 'given', 'length']\n"
     ]
    }
   ],
   "source": [
    "def find_words(s, k):\n",
    "    return [word for word in s.split() if len(word) > k]\n",
    "\n",
    "# Test the function\n",
    "s = \"Write a Python program to find words which are greater than given length k\"\n",
    "k = 4\n",
    "print(find_words(s, k))\n"
   ]
  },
  {
   "cell_type": "code",
   "execution_count": 2,
   "metadata": {},
   "outputs": [
    {
     "name": "stdout",
     "output_type": "stream",
     "text": [
      "Write aPython program for removing i-th character from a string\n"
     ]
    }
   ],
   "source": [
    "def remove_char(s, i):\n",
    "    return s[:i] + s[i+1:]\n",
    "\n",
    "# Test the function\n",
    "s = \"Write a Python program for removing i-th character from a string\"\n",
    "i = 7\n",
    "print(remove_char(s, i))\n"
   ]
  },
  {
   "cell_type": "code",
   "execution_count": 3,
   "metadata": {},
   "outputs": [
    {
     "name": "stdout",
     "output_type": "stream",
     "text": [
      "Write-a-Python-program-to-split-and-join-a-string\n"
     ]
    }
   ],
   "source": [
    "def split_and_join(s, delimiter):\n",
    "    return delimiter.join(s.split())\n",
    "\n",
    "# Test the function\n",
    "s = \"Write a Python program to split and join a string\"\n",
    "delimiter = '-'\n",
    "print(split_and_join(s, delimiter))\n"
   ]
  },
  {
   "cell_type": "code",
   "execution_count": 4,
   "metadata": {},
   "outputs": [
    {
     "name": "stdout",
     "output_type": "stream",
     "text": [
      "True\n"
     ]
    }
   ],
   "source": [
    "def is_binary(s):\n",
    "    return set(s) <= {'0', '1'}\n",
    "\n",
    "# Test the function\n",
    "s = \"1010101010\"\n",
    "print(is_binary(s))\n"
   ]
  },
  {
   "cell_type": "code",
   "execution_count": 5,
   "metadata": {},
   "outputs": [
    {
     "name": "stdout",
     "output_type": "stream",
     "text": [
      "['from', 'duplicate', 'characters', 'Strings', 'words', 'string', 'uncommon', 'all', 'in', 'two']\n"
     ]
    }
   ],
   "source": [
    "def find_uncommon(s1, s2):\n",
    "    return list(set(s1.split()) ^ set(s2.split()))\n",
    "\n",
    "# Test the function\n",
    "s1 = \"Write a Python program to find uncommon words from two Strings\"\n",
    "s2 = \"Write a Python program to find all duplicate characters in string\"\n",
    "print(find_uncommon(s1, s2))\n"
   ]
  },
  {
   "cell_type": "code",
   "execution_count": 6,
   "metadata": {},
   "outputs": [
    {
     "name": "stdout",
     "output_type": "stream",
     "text": [
      "['t', 'a', 'l', 's', 'e', 'h', 'r', 'i', 'o', 'n', 'c', ' ', 'd']\n"
     ]
    }
   ],
   "source": [
    "def find_duplicates(s):\n",
    "    return [char for char in set(s) if s.count(char) > 1]\n",
    "\n",
    "# Test the function\n",
    "s = \"Write a Python to find all duplicate characters in string\"\n",
    "print(find_duplicates(s))\n"
   ]
  },
  {
   "cell_type": "code",
   "execution_count": 7,
   "metadata": {},
   "outputs": [
    {
     "name": "stdout",
     "output_type": "stream",
     "text": [
      "True\n"
     ]
    }
   ],
   "source": [
    "def has_special_char(s):\n",
    "    return any(char in '!@#$%^&*()-+?_=,<>/|' for char in s)\n",
    "\n",
    "# Test the function\n",
    "s = \"Write a Python Program to check if a string contains any special character?\"\n",
    "print(has_special_char(s))\n"
   ]
  }
 ],
 "metadata": {
  "kernelspec": {
   "display_name": "Python 3",
   "language": "python",
   "name": "python3"
  },
  "language_info": {
   "codemirror_mode": {
    "name": "ipython",
    "version": 3
   },
   "file_extension": ".py",
   "mimetype": "text/x-python",
   "name": "python",
   "nbconvert_exporter": "python",
   "pygments_lexer": "ipython3",
   "version": "3.8.18"
  }
 },
 "nbformat": 4,
 "nbformat_minor": 2
}
