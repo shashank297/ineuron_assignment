{
 "cells": [
  {
   "cell_type": "markdown",
   "metadata": {},
   "source": [
    "1.\tWrite a Python Program to Display Fibonacci Sequence Using Recursion?\n",
    "2.\tWrite a Python Program to Find Factorial of Number Using Recursion?\n",
    "3.\tWrite a Python Program to calculate your Body Mass Index?\n",
    "4.\tWrite a Python Program to calculate the natural logarithm of any number?\n",
    "5.\tWrite a Python Program for cube sum of first n natural numbers?\n"
   ]
  }
 ],
 "metadata": {
  "language_info": {
   "name": "python"
  }
 },
 "nbformat": 4,
 "nbformat_minor": 2
}
