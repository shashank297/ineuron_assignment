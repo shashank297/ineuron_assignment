{
 "cells": [
  {
   "cell_type": "markdown",
   "metadata": {},
   "source": [
    "1.\tWrite a Python Program to Display Fibonacci Sequence Using Recursion?\n",
    "2.\tWrite a Python Program to Find Factorial of Number Using Recursion?\n",
    "3.\tWrite a Python Program to calculate your Body Mass Index?\n",
    "4.\tWrite a Python Program to calculate the natural logarithm of any number?\n",
    "5.\tWrite a Python Program for cube sum of first n natural numbers?\n"
   ]
  },
  {
   "cell_type": "code",
   "execution_count": 31,
   "metadata": {},
   "outputs": [
    {
     "name": "stdout",
     "output_type": "stream",
     "text": [
      "12586269025\n"
     ]
    }
   ],
   "source": [
    "# 1\n",
    "def fib(n, d):\n",
    "    if n in d:\n",
    "        return d[n]\n",
    "    else:\n",
    "        ans = fib(n-1, d) + fib(n-2, d)\n",
    "        d[n] = ans\n",
    "        return ans\n",
    "\n",
    "d = {0: 0, 1: 1}\n",
    "print(fib(50, d))\n"
   ]
  },
  {
   "cell_type": "code",
   "execution_count": 35,
   "metadata": {},
   "outputs": [
    {
     "data": {
      "text/plain": [
       "120"
      ]
     },
     "execution_count": 35,
     "metadata": {},
     "output_type": "execute_result"
    }
   ],
   "source": [
    "# 2\n",
    "def fac(n):\n",
    "    if n==1:\n",
    "        return 1\n",
    "    else:\n",
    "        return n*fac(n-1)  \n",
    "\n",
    "fac(5)            \n"
   ]
  },
  {
   "cell_type": "code",
   "execution_count": 40,
   "metadata": {},
   "outputs": [
    {
     "data": {
      "text/plain": [
       "23.738662131519277"
      ]
     },
     "execution_count": 40,
     "metadata": {},
     "output_type": "execute_result"
    }
   ],
   "source": [
    "# 3\n",
    "def BMI(W,H):\n",
    "    return W/(H/100)**2\n",
    "\n",
    "BMI(67,168)  \n",
    "\n"
   ]
  },
  {
   "cell_type": "code",
   "execution_count": 43,
   "metadata": {},
   "outputs": [
    {
     "name": "stdout",
     "output_type": "stream",
     "text": [
      "2.302585092994046\n"
     ]
    }
   ],
   "source": [
    "# 4\n",
    "import math\n",
    "\n",
    "def calculate_log(n):\n",
    "    if n > 0:\n",
    "        return math.log(n)\n",
    "    else:\n",
    "        return \"Invalid input. Logarithm undefined for non-positive numbers.\"\n",
    "\n",
    "# Test the function\n",
    "print(calculate_log(10))\n"
   ]
  },
  {
   "cell_type": "code",
   "execution_count": 42,
   "metadata": {},
   "outputs": [],
   "source": [
    "# 5\n",
    "\n",
    "def cube_sum(n):\n",
    "    '''\n",
    "    this funtion will return the cube sum of the n numbers \n",
    "    '''\n",
    "    return sum([i**3 for i in range(1,n+1)])\n"
   ]
  }
 ],
 "metadata": {
  "kernelspec": {
   "display_name": "Python 3",
   "language": "python",
   "name": "python3"
  },
  "language_info": {
   "name": "python",
   "version": "3.8.18"
  }
 },
 "nbformat": 4,
 "nbformat_minor": 2
}
