{
 "cells": [
  {
   "cell_type": "markdown",
   "metadata": {},
   "source": [
    "1.\tWrite a Python program to find sum of elements in list?\n",
    "2.\tWrite a Python program to  Multiply all numbers in the list?\n",
    "3.\tWrite a Python program to find smallest number in a list?\n",
    "4.\tWrite a Python program to find largest number in a list?\n",
    "5.\tWrite a Python program to find second largest number in a list?\n",
    "6.\tWrite a Python program to find N largest elements from a list?\n",
    "7.\tWrite a Python program to print even numbers in a list?\n",
    "8.\tWrite a Python program to print odd numbers in a List?\n",
    "9.\tWrite a Python program to Remove empty List from List?\n",
    "10.\tWrite a Python program to Cloning or Copying a list?\n",
    "11.\tWrite a Python program to Count occurrences of an element in a list?\n"
   ]
  },
  {
   "cell_type": "code",
   "execution_count": null,
   "metadata": {},
   "outputs": [],
   "source": []
  }
 ],
 "metadata": {
  "language_info": {
   "name": "python"
  }
 },
 "nbformat": 4,
 "nbformat_minor": 2
}
