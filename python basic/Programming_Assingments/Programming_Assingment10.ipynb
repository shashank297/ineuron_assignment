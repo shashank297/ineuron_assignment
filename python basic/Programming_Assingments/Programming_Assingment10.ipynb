{
 "cells": [
  {
   "cell_type": "markdown",
   "metadata": {},
   "source": [
    "1.\tWrite a Python program to find sum of elements in list?\n",
    "2.\tWrite a Python program to  Multiply all numbers in the list?\n",
    "3.\tWrite a Python program to find smallest number in a list?\n",
    "4.\tWrite a Python program to find largest number in a list?\n",
    "5.\tWrite a Python program to find second largest number in a list?\n",
    "6.\tWrite a Python program to find N largest elements from a list?\n",
    "7.\tWrite a Python program to print even numbers in a list?\n",
    "8.\tWrite a Python program to print odd numbers in a List?\n",
    "9.\tWrite a Python program to Remove empty List from List?\n",
    "10.\tWrite a Python program to Cloning or Copying a list?\n",
    "11.\tWrite a Python program to Count occurrences of an element in a list?\n"
   ]
  },
  {
   "cell_type": "code",
   "execution_count": 1,
   "metadata": {},
   "outputs": [
    {
     "name": "stdout",
     "output_type": "stream",
     "text": [
      "15\n"
     ]
    }
   ],
   "source": [
    "def sum_list(lst):\n",
    "    return sum(lst)\n",
    "\n",
    "# Test the function\n",
    "lst = [1, 2, 3, 4, 5]\n",
    "print(sum_list(lst))\n"
   ]
  },
  {
   "cell_type": "code",
   "execution_count": 2,
   "metadata": {},
   "outputs": [
    {
     "name": "stdout",
     "output_type": "stream",
     "text": [
      "120\n"
     ]
    }
   ],
   "source": [
    "def multiply_list(lst):\n",
    "    result = 1\n",
    "    for num in lst:\n",
    "        result *= num\n",
    "    return result\n",
    "\n",
    "# Test the function\n",
    "lst = [1, 2, 3, 4, 5]\n",
    "print(multiply_list(lst))\n"
   ]
  },
  {
   "cell_type": "code",
   "execution_count": 3,
   "metadata": {},
   "outputs": [
    {
     "name": "stdout",
     "output_type": "stream",
     "text": [
      "1\n"
     ]
    }
   ],
   "source": [
    "def find_smallest(lst):\n",
    "    return min(lst)\n",
    "\n",
    "# Test the function\n",
    "lst = [1, 2, 3, 4, 5]\n",
    "print(find_smallest(lst))\n"
   ]
  },
  {
   "cell_type": "code",
   "execution_count": 4,
   "metadata": {},
   "outputs": [
    {
     "name": "stdout",
     "output_type": "stream",
     "text": [
      "5\n"
     ]
    }
   ],
   "source": [
    "def find_largest(lst):\n",
    "    return max(lst)\n",
    "\n",
    "# Test the function\n",
    "lst = [1, 2, 3, 4, 5]\n",
    "print(find_largest(lst))\n"
   ]
  },
  {
   "cell_type": "code",
   "execution_count": 5,
   "metadata": {},
   "outputs": [
    {
     "name": "stdout",
     "output_type": "stream",
     "text": [
      "4\n"
     ]
    }
   ],
   "source": [
    "def find_second_largest(lst):\n",
    "    lst.sort()\n",
    "    return lst[-2]\n",
    "\n",
    "# Test the function\n",
    "lst = [1, 2, 3, 4, 5]\n",
    "print(find_second_largest(lst))\n"
   ]
  },
  {
   "cell_type": "code",
   "execution_count": 6,
   "metadata": {},
   "outputs": [
    {
     "name": "stdout",
     "output_type": "stream",
     "text": [
      "[3, 4, 5]\n"
     ]
    }
   ],
   "source": [
    "def find_n_largest(lst, N):\n",
    "    lst.sort()\n",
    "    return lst[-N:]\n",
    "\n",
    "# Test the function\n",
    "lst = [1, 2, 3, 4, 5]\n",
    "N = 3\n",
    "print(find_n_largest(lst, N))\n"
   ]
  },
  {
   "cell_type": "code",
   "execution_count": 7,
   "metadata": {},
   "outputs": [
    {
     "name": "stdout",
     "output_type": "stream",
     "text": [
      "[2, 4]\n"
     ]
    }
   ],
   "source": [
    "def print_even(lst):\n",
    "    return [num for num in lst if num % 2 == 0]\n",
    "\n",
    "# Test the function\n",
    "lst = [1, 2, 3, 4, 5]\n",
    "print(print_even(lst))\n"
   ]
  },
  {
   "cell_type": "code",
   "execution_count": 8,
   "metadata": {},
   "outputs": [
    {
     "name": "stdout",
     "output_type": "stream",
     "text": [
      "[1, 3, 5]\n"
     ]
    }
   ],
   "source": [
    "def print_odd(lst):\n",
    "    return [num for num in lst if num % 2 != 0]\n",
    "\n",
    "# Test the function\n",
    "lst = [1, 2, 3, 4, 5]\n",
    "print(print_odd(lst))\n"
   ]
  },
  {
   "cell_type": "code",
   "execution_count": 9,
   "metadata": {},
   "outputs": [
    {
     "name": "stdout",
     "output_type": "stream",
     "text": [
      "[[1, 2, 3], [4, 5]]\n"
     ]
    }
   ],
   "source": [
    "def remove_empty(lst):\n",
    "    return [l for l in lst if l != []]\n",
    "\n",
    "# Test the function\n",
    "lst = [[], [1, 2, 3], [], [4, 5], []]\n",
    "print(remove_empty(lst))\n"
   ]
  },
  {
   "cell_type": "code",
   "execution_count": 10,
   "metadata": {},
   "outputs": [
    {
     "name": "stdout",
     "output_type": "stream",
     "text": [
      "[1, 2, 3, 4, 5]\n"
     ]
    }
   ],
   "source": [
    "def clone_list(lst):\n",
    "    return lst[:]\n",
    "\n",
    "# Test the function\n",
    "lst = [1, 2, 3, 4, 5]\n",
    "print(clone_list(lst))\n"
   ]
  },
  {
   "cell_type": "code",
   "execution_count": 11,
   "metadata": {},
   "outputs": [
    {
     "name": "stdout",
     "output_type": "stream",
     "text": [
      "4\n"
     ]
    }
   ],
   "source": [
    "def count_occurrences(lst, x):\n",
    "    return lst.count(x)\n",
    "\n",
    "# Test the function\n",
    "lst = [1, 2, 3, 4, 5, 1, 1, 1]\n",
    "x = 1\n",
    "print(count_occurrences(lst, x))\n"
   ]
  }
 ],
 "metadata": {
  "kernelspec": {
   "display_name": "Python 3",
   "language": "python",
   "name": "python3"
  },
  "language_info": {
   "codemirror_mode": {
    "name": "ipython",
    "version": 3
   },
   "file_extension": ".py",
   "mimetype": "text/x-python",
   "name": "python",
   "nbconvert_exporter": "python",
   "pygments_lexer": "ipython3",
   "version": "3.8.18"
  }
 },
 "nbformat": 4,
 "nbformat_minor": 2
}
