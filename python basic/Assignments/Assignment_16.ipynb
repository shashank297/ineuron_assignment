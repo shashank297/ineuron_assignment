{
 "cells": [
  {
   "cell_type": "markdown",
   "metadata": {},
   "source": [
    "# Assignment 16\n"
   ]
  },
  {
   "cell_type": "markdown",
   "metadata": {},
   "source": [
    "```\n",
    "1. Create a list called years_list, starting with the year of your birth, and each year thereafter until the year of your fifth birthday. For example, if you were born in 1980. the list would be years_list = [1980, 1981, 1982, 1983, 1984, 1985].\n",
    "2. In which year in years_list was your third birthday? Remember, you were 0 years of age for your first year.\n",
    "3.In the years list, which year were you the oldest?\n",
    "4. Make a list called things with these three strings as elements: \"mozzarella\", \"cinderella\", \"salmonella\".\n",
    "5. Capitalize the element in things that refers to a person and then print the list. Did it change the element in the list?\n",
    "6. Make a surprise list with the elements \"Groucho,\" \"Chico,\" and \"Harpo.\"\n",
    "7. Lowercase the last element of the surprise list, reverse it, and then capitalize it.\n",
    "8. Make an English-to-French dictionary called e2f and print it. Here are your starter words: dog is chien, cat is chat, and walrus is morse.\n",
    "9. Write the French word for walrus in your three-word dictionary e2f.\n",
    "10. Make a French-to-English dictionary called f2e from e2f. Use the items method.\n",
    "11. Print the English version of the French word chien using f2e.\n",
    "12. Make and print a set of English words from the keys in e2f.\n",
    "13. Make a multilevel dictionary called life. Use these strings for the topmost keys: 'animals', 'plants', and 'other'. Make the 'animals' key refer to another dictionary with the keys 'cats', 'octopi', and 'emus'. Make the 'cats' key refer to a list of strings with the values 'Henri', 'Grumpy', and 'Lucy'. Make all the other keys refer to empty dictionaries.\n",
    "14. Print the top-level keys of life.\n",
    "15. Print the keys for life['animals'].\n",
    "16. Print the values for life['animals']['cats']\n",
    "```"
   ]
  },
  {
   "cell_type": "code",
   "execution_count": 3,
   "metadata": {},
   "outputs": [
    {
     "name": "stdout",
     "output_type": "stream",
     "text": [
      "1. years_list: [1980, 1981, 1982, 1983, 1984, 1985]\n"
     ]
    }
   ],
   "source": [
    "# 1. Create a list called years_list\n",
    "birth_year = 1980\n",
    "years_list = list(range(birth_year, birth_year + 6))\n",
    "print(\"1. years_list:\", years_list)"
   ]
  },
  {
   "cell_type": "code",
   "execution_count": 4,
   "metadata": {},
   "outputs": [
    {
     "name": "stdout",
     "output_type": "stream",
     "text": [
      "2. Third birthday year: 1983\n"
     ]
    }
   ],
   "source": [
    "# 2. In which year in years_list was your third birthday?\n",
    "third_birthday_year = years_list[3]\n",
    "print(\"2. Third birthday year:\", third_birthday_year)\n"
   ]
  },
  {
   "cell_type": "code",
   "execution_count": 5,
   "metadata": {},
   "outputs": [
    {
     "name": "stdout",
     "output_type": "stream",
     "text": [
      "3. Oldest year: 1985\n"
     ]
    }
   ],
   "source": [
    "# 3. In the years list, which year were you the oldest?\n",
    "oldest_year = years_list[-1]\n",
    "print(\"3. Oldest year:\", oldest_year)\n"
   ]
  },
  {
   "cell_type": "code",
   "execution_count": 6,
   "metadata": {},
   "outputs": [
    {
     "name": "stdout",
     "output_type": "stream",
     "text": [
      "4. things: ['mozzarella', 'cinderella', 'salmonella']\n"
     ]
    }
   ],
   "source": [
    "# 4. Make a list called things\n",
    "things = [\"mozzarella\", \"cinderella\", \"salmonella\"]\n",
    "print(\"4. things:\", things)"
   ]
  },
  {
   "cell_type": "code",
   "execution_count": 7,
   "metadata": {},
   "outputs": [
    {
     "name": "stdout",
     "output_type": "stream",
     "text": [
      "5. things after capitalizing person: ['mozzarella', 'Cinderella', 'salmonella']\n"
     ]
    }
   ],
   "source": [
    "# 5. Capitalize the element in things that refers to a person and then print the list.\n",
    "things[1] = things[1].capitalize()\n",
    "print(\"5. things after capitalizing person:\", things)"
   ]
  },
  {
   "cell_type": "code",
   "execution_count": 8,
   "metadata": {},
   "outputs": [
    {
     "name": "stdout",
     "output_type": "stream",
     "text": [
      "6. surprise: ['Groucho', 'Chico', 'Harpo']\n"
     ]
    }
   ],
   "source": [
    "# 6. Make a surprise list\n",
    "surprise = [\"Groucho\", \"Chico\", \"Harpo\"]\n",
    "print(\"6. surprise:\", surprise)"
   ]
  },
  {
   "cell_type": "code",
   "execution_count": 9,
   "metadata": {},
   "outputs": [
    {
     "name": "stdout",
     "output_type": "stream",
     "text": [
      "7. surprise after modification: ['Groucho', 'Chico', 'Oprah']\n"
     ]
    }
   ],
   "source": [
    "# 7. Lowercase the last element of the surprise list, reverse it, and then capitalize it.\n",
    "surprise[-1] = surprise[-1].lower()[::-1].capitalize()\n",
    "print(\"7. surprise after modification:\", surprise)\n"
   ]
  },
  {
   "cell_type": "code",
   "execution_count": 10,
   "metadata": {},
   "outputs": [
    {
     "name": "stdout",
     "output_type": "stream",
     "text": [
      "8. e2f: {'dog': 'chien', 'cat': 'chat', 'walrus': 'morse'}\n"
     ]
    }
   ],
   "source": [
    "# 8. Make an English-to-French dictionary called e2f and print it.\n",
    "e2f = {\"dog\": \"chien\", \"cat\": \"chat\", \"walrus\": \"morse\"}\n",
    "print(\"8. e2f:\", e2f)"
   ]
  },
  {
   "cell_type": "code",
   "execution_count": 11,
   "metadata": {},
   "outputs": [
    {
     "name": "stdout",
     "output_type": "stream",
     "text": [
      "9. French word for walrus: morse\n"
     ]
    }
   ],
   "source": [
    "# 9. Write the French word for walrus in your three-word dictionary e2f.\n",
    "walrus_in_french = e2f[\"walrus\"]\n",
    "print(\"9. French word for walrus:\", walrus_in_french)"
   ]
  },
  {
   "cell_type": "code",
   "execution_count": 12,
   "metadata": {},
   "outputs": [
    {
     "name": "stdout",
     "output_type": "stream",
     "text": [
      "10. f2e: {'chien': 'dog', 'chat': 'cat', 'morse': 'walrus'}\n"
     ]
    }
   ],
   "source": [
    "# 10. Make a French-to-English dictionary called f2e from e2f.\n",
    "f2e = {v: k for k, v in e2f.items()}\n",
    "print(\"10. f2e:\", f2e)"
   ]
  },
  {
   "cell_type": "code",
   "execution_count": 13,
   "metadata": {},
   "outputs": [
    {
     "name": "stdout",
     "output_type": "stream",
     "text": [
      "11. English word for chien: dog\n"
     ]
    }
   ],
   "source": [
    "# 11. Print the English version of the French word chien using f2e.\n",
    "chien_in_english = f2e[\"chien\"]\n",
    "print(\"11. English word for chien:\", chien_in_english)"
   ]
  },
  {
   "cell_type": "code",
   "execution_count": 14,
   "metadata": {},
   "outputs": [
    {
     "name": "stdout",
     "output_type": "stream",
     "text": [
      "12. Set of English words: {'cat', 'dog', 'walrus'}\n"
     ]
    }
   ],
   "source": [
    "# 12. Make and print a set of English words from the keys in e2f.\n",
    "english_words = set(e2f.keys())\n",
    "print(\"12. Set of English words:\", english_words)"
   ]
  },
  {
   "cell_type": "code",
   "execution_count": 15,
   "metadata": {},
   "outputs": [
    {
     "name": "stdout",
     "output_type": "stream",
     "text": [
      "13. life: {'animals': {'cats': ['Henri', 'Grumpy', 'Lucy'], 'octopi': {}, 'emus': {}}, 'plants': {}, 'other': {}}\n"
     ]
    }
   ],
   "source": [
    "# 13. Make a multilevel dictionary called life.\n",
    "life = {\n",
    "    'animals': {\n",
    "        'cats': ['Henri', 'Grumpy', 'Lucy'],\n",
    "        'octopi': {},\n",
    "        'emus': {}\n",
    "    },\n",
    "    'plants': {},\n",
    "    'other': {}\n",
    "}\n",
    "print(\"13. life:\", life)"
   ]
  },
  {
   "cell_type": "code",
   "execution_count": 16,
   "metadata": {},
   "outputs": [
    {
     "name": "stdout",
     "output_type": "stream",
     "text": [
      "14. Top-level keys of life: dict_keys(['animals', 'plants', 'other'])\n"
     ]
    }
   ],
   "source": [
    "# 14. Print the top-level keys of life.\n",
    "top_level_keys = life.keys()\n",
    "print(\"14. Top-level keys of life:\", top_level_keys)"
   ]
  },
  {
   "cell_type": "code",
   "execution_count": 17,
   "metadata": {},
   "outputs": [
    {
     "name": "stdout",
     "output_type": "stream",
     "text": [
      "15. Keys for life['animals']: dict_keys(['cats', 'octopi', 'emus'])\n"
     ]
    }
   ],
   "source": [
    "# 15. Print the keys for life['animals'].\n",
    "animal_keys = life['animals'].keys()\n",
    "print(\"15. Keys for life['animals']:\", animal_keys)"
   ]
  },
  {
   "cell_type": "code",
   "execution_count": 18,
   "metadata": {},
   "outputs": [
    {
     "name": "stdout",
     "output_type": "stream",
     "text": [
      "16. Values for life['animals']['cats']: ['Henri', 'Grumpy', 'Lucy']\n"
     ]
    }
   ],
   "source": [
    "# 16. Print the values for life['animals']['cats']\n",
    "cat_values = life['animals']['cats']\n",
    "print(\"16. Values for life['animals']['cats']:\", cat_values)"
   ]
  }
 ],
 "metadata": {
  "kernelspec": {
   "display_name": "base",
   "language": "python",
   "name": "python3"
  },
  "language_info": {
   "codemirror_mode": {
    "name": "ipython",
    "version": 3
   },
   "file_extension": ".py",
   "mimetype": "text/x-python",
   "name": "python",
   "nbconvert_exporter": "python",
   "pygments_lexer": "ipython3",
   "version": "3.11.3"
  }
 },
 "nbformat": 4,
 "nbformat_minor": 2
}
